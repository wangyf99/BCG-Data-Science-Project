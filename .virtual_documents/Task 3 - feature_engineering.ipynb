


import pandas as pd





df = pd.read_csv('./clean_data_after_eda.csv')
df["date_activ"] = pd.to_datetime(df["date_activ"], format='%Y-%m-%d')
df["date_end"] = pd.to_datetime(df["date_end"], format='%Y-%m-%d')
df["date_modif_prod"] = pd.to_datetime(df["date_modif_prod"], format='%Y-%m-%d')
df["date_renewal"] = pd.to_datetime(df["date_renewal"], format='%Y-%m-%d')


df.head(3)


sample = df[df['id'] == '24011ae4ebbe3035111d65fa7c15bc57']


df[['date_end', 'churn']].describe()


df_2017 = df.loc[df['date_end'].dt.year == 2017, ['date_activ', 'date_end', 'date_modif_prod', 'date_renewal', 'churn']]


df_2017


df.loc[df['date_modif_prod'] > df['date_renewal'], ['id', 'date_activ', 'date_end', 'date_modif_prod', 'date_renewal', 'churn']]





price_df = pd.read_csv('price_data.csv')
price_df["price_date"] = pd.to_datetime(price_df["price_date"], format='%Y-%m-%d')
price_df.head()


price_df[price_df['id'] == '038af19179925da21a25619c5a24b745']


# Group off-peak prices by companies and month
monthly_price_by_id = price_df.groupby(['id', 'price_date']).agg({'price_off_peak_var': 'mean', 'price_off_peak_fix': 'mean'}).reset_index()

# Get january and december prices
jan_prices = monthly_price_by_id.groupby('id').first().reset_index()
dec_prices = monthly_price_by_id.groupby('id').last().reset_index()

# Calculate the difference
diff = pd.merge(dec_prices.rename(columns={'price_off_peak_var': 'dec_1', 'price_off_peak_fix': 'dec_2'}), jan_prices.drop(columns='price_date'), on='id')
diff['offpeak_diff_dec_january_energy'] = diff['dec_1'] - diff['price_off_peak_var']
diff['offpeak_diff_dec_january_power'] = diff['dec_2'] - diff['price_off_peak_fix']
diff = diff[['id', 'offpeak_diff_dec_january_energy','offpeak_diff_dec_january_power']]
diff.head()





client_df = df


client_df = pd.merge(client_df, diff, on='id', how='left')


# Group off-peak prices by companies and month
monthly_price_by_id = price_df.groupby(['id', 'price_date']).agg({'price_peak_var': 'mean', 'price_peak_fix': 'mean'}).reset_index()

# Get january and december prices
jan_prices = monthly_price_by_id.groupby('id').first().reset_index()
dec_prices = monthly_price_by_id.groupby('id').last().reset_index()

# Calculate the difference
diff = pd.merge(dec_prices.rename(columns={'price_peak_var': 'dec_1', 'price_peak_fix': 'dec_2'}), jan_prices.drop(columns='price_date'), on='id')
diff['peak_diff_dec_january_energy'] = diff['dec_1'] - diff['price_peak_var']
diff['peak_diff_dec_january_power'] = diff['dec_2'] - diff['price_peak_fix']
diff = diff[['id', 'peak_diff_dec_january_energy','peak_diff_dec_january_power']]
diff.head()


client_df = pd.merge(client_df, diff, on='id', how='left')


# New Feature 1: Tenure (in years)
client_df['tenure'] = (client_df['date_end'] - client_df['date_activ']).dt.days / 365.25


client_df


# New Feature 2: Time since last product modification (in years)
# Using the latest date_end as the reference point
client_df['time_since_modif'] = (client_df['date_end'] - client_df['date_modif_prod']).dt.days / 365.25


# New Feature 6: Consumption trend (last month vs. yearly average)
client_df['avg_monthly_cons'] = client_df['cons_12m'] / 12
client_df['cons_trend'] = client_df['cons_last_month'] - client_df['avg_monthly_cons']


# New Feature 7: Total consumption (electricity + gas)
client_df['total_cons_12m'] = client_df['cons_12m'] + client_df['cons_gas_12m']


# New Feature 10: Price volatility (standard deviation)
price_volatility = price_df.groupby('id').agg({
    'price_off_peak_var': 'std',
    'price_peak_var': 'std',
    'price_mid_peak_var': 'std',
    'price_off_peak_fix': 'std',
    'price_peak_fix': 'std',
    'price_mid_peak_fix': 'std'
}).reset_index()
price_volatility.columns = ['id', 'std_price_off_peak_var', 'std_price_peak_var', 'std_price_mid_peak_var',
                            'std_price_off_peak_fix', 'std_price_peak_fix', 'std_price_mid_peak_fix']
client_df = pd.merge(client_df, price_volatility, on='id', how='left')


# New Feature 11: Has discount (binary)
client_df['has_discount'] = (client_df['forecast_discount_energy'] > 0).astype(int)


client_df



